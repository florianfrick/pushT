{
 "cells": [
  {
   "cell_type": "markdown",
   "id": "873e3729",
   "metadata": {},
   "source": [
    "# Push-T Imitation Learning With Transformer"
   ]
  },
  {
   "cell_type": "markdown",
   "id": "6cd63111",
   "metadata": {},
   "source": [
    "## Load Dataset"
   ]
  },
  {
   "cell_type": "code",
   "execution_count": 1,
   "id": "155c908d",
   "metadata": {},
   "outputs": [],
   "source": [
    "import os # to deal with files\n",
    "import gdown # to download from google drive\n",
    "import zipfile # to unzip\n",
    "import zarr # to load the dataset\n",
    "# download demonstration data from Google Drive\n",
    "dataset_path = \"pusht_cchi_v7_replay.zarr.zip\"\n",
    "extracted_dataset_path = \"pusht_cchi_v7_replay.zarr\"  # Path to extracted dataset\n",
    "\n",
    "if not os.path.isfile(dataset_path):\n",
    "    id = \"1KY1InLurpMvJDRb14L9NlXT_fEsCvVUq&confirm=t\"\n",
    "    gdown.download(id=id, output=dataset_path, quiet=False)\n",
    "\n",
    "# Extract the dataset if it hasn't been extracted yet\n",
    "if not os.path.isdir(extracted_dataset_path):\n",
    "    with zipfile.ZipFile(dataset_path, 'r') as zip_ref:\n",
    "        zip_ref.extractall(extracted_dataset_path)"
   ]
  },
  {
   "cell_type": "code",
   "execution_count": 2,
   "id": "24ef5bd3",
   "metadata": {},
   "outputs": [],
   "source": [
    "import numpy as np\n",
    "import torch\n",
    "\n",
    "def create_sample_indices(\n",
    "        episode_ends:np.ndarray, sequence_length:int,\n",
    "        pad_before: int=0, pad_after: int=0):\n",
    "    indices = list()\n",
    "    for i in range(len(episode_ends)):\n",
    "        start_idx = 0\n",
    "        if i > 0:\n",
    "            start_idx = episode_ends[i-1]\n",
    "        end_idx = episode_ends[i]\n",
    "        episode_length = end_idx - start_idx\n",
    "\n",
    "        min_start = -pad_before\n",
    "        max_start = episode_length - sequence_length + pad_after\n",
    "\n",
    "        # range stops one idx before end\n",
    "        for idx in range(min_start, max_start+1):\n",
    "            buffer_start_idx = max(idx, 0) + start_idx\n",
    "            buffer_end_idx = min(idx+sequence_length, episode_length) + start_idx\n",
    "            start_offset = buffer_start_idx - (idx+start_idx)\n",
    "            end_offset = (idx+sequence_length+start_idx) - buffer_end_idx\n",
    "            sample_start_idx = 0 + start_offset\n",
    "            sample_end_idx = sequence_length - end_offset\n",
    "            indices.append([\n",
    "                buffer_start_idx, buffer_end_idx,\n",
    "                sample_start_idx, sample_end_idx])\n",
    "    indices = np.array(indices)\n",
    "    return indices\n",
    "\n",
    "\n",
    "def sample_sequence(train_data, sequence_length,\n",
    "                    buffer_start_idx, buffer_end_idx,\n",
    "                    sample_start_idx, sample_end_idx):\n",
    "    result = dict()\n",
    "    for key, input_arr in train_data.items():\n",
    "        sample = input_arr[buffer_start_idx:buffer_end_idx]\n",
    "        data = sample\n",
    "        if (sample_start_idx > 0) or (sample_end_idx < sequence_length):\n",
    "            data = np.zeros(\n",
    "                shape=(sequence_length,) + input_arr.shape[1:],\n",
    "                dtype=input_arr.dtype)\n",
    "            if sample_start_idx > 0:\n",
    "                data[:sample_start_idx] = sample[0]\n",
    "            if sample_end_idx < sequence_length:\n",
    "                data[sample_end_idx:] = sample[-1]\n",
    "            data[sample_start_idx:sample_end_idx] = sample\n",
    "        result[key] = data\n",
    "    return result\n",
    "\n",
    "# normalize data\n",
    "def get_data_stats(data):\n",
    "    data = data.reshape(-1,data.shape[-1])\n",
    "    stats = {\n",
    "        'min': np.min(data, axis=0),\n",
    "        'max': np.max(data, axis=0)\n",
    "    }\n",
    "    return stats\n",
    "\n",
    "def normalize_data(data, stats):\n",
    "    # nomalize to [0,1]\n",
    "    ndata = (data - stats['min']) / (stats['max'] - stats['min'])\n",
    "    # normalize to [-1, 1]\n",
    "    ndata = ndata * 2 - 1\n",
    "    return ndata\n",
    "\n",
    "def unnormalize_data(ndata, stats):\n",
    "    ndata = (ndata + 1) / 2\n",
    "    data = ndata * (stats['max'] - stats['min']) + stats['min']\n",
    "    return data\n",
    "\n",
    "# Returns\n",
    "# All possible segments with length pred_horizon\n",
    "# Pads the beginning and the end of each episode with repetition\n",
    "# key image: shape (obs_hoirzon, 3, 96, 96)\n",
    "# key agent_pos: shape (obs_hoirzon, 2)\n",
    "# key action: shape (pred_horizon, 2)\n",
    "class PushTImageDataset(torch.utils.data.Dataset):\n",
    "    def __init__(self,\n",
    "                 dataset_path: str,\n",
    "                 pred_horizon: int,\n",
    "                 obs_horizon: int,\n",
    "                 action_horizon: int):\n",
    "\n",
    "        # read from zarr dataset\n",
    "        dataset_root = zarr.open(dataset_path, 'r')\n",
    "\n",
    "        # float32, [0,1], (N,96,96,3)\n",
    "        train_image_data = dataset_root['data']['img'][:]\n",
    "        train_image_data = np.moveaxis(train_image_data, -1,1)\n",
    "        # (N,3,96,96)\n",
    "\n",
    "        # (N, D)\n",
    "        train_data = {\n",
    "            # first two dims of state vector are agent (i.e. gripper) locations\n",
    "            'agent_pos': dataset_root['data']['state'][:,:2],\n",
    "            'action': dataset_root['data']['action'][:]\n",
    "        }\n",
    "        episode_ends = dataset_root['meta']['episode_ends'][:]\n",
    "\n",
    "        # compute start and end of each state-action sequence\n",
    "        # also handles padding\n",
    "        indices = create_sample_indices(\n",
    "            episode_ends=episode_ends,\n",
    "            sequence_length=pred_horizon,\n",
    "            pad_before=obs_horizon-1,\n",
    "            pad_after=action_horizon-1)\n",
    "\n",
    "        # compute statistics and normalized data to [-1,1]\n",
    "        stats = dict()\n",
    "        normalized_train_data = dict()\n",
    "        for key, data in train_data.items():\n",
    "            stats[key] = get_data_stats(data)\n",
    "            normalized_train_data[key] = normalize_data(data, stats[key])\n",
    "\n",
    "        # normalize images from [0, 255] to [0, 1]\n",
    "        normalized_train_data['image'] = train_image_data / 255.0\n",
    "\n",
    "        self.indices = indices\n",
    "        self.stats = stats\n",
    "        self.normalized_train_data = normalized_train_data\n",
    "        self.pred_horizon = pred_horizon\n",
    "        self.action_horizon = action_horizon\n",
    "        self.obs_horizon = obs_horizon\n",
    "\n",
    "    def __len__(self):\n",
    "        return len(self.indices)\n",
    "\n",
    "    def __getitem__(self, idx):\n",
    "        # get the start/end indices for this datapoint\n",
    "        buffer_start_idx, buffer_end_idx, \\\n",
    "            sample_start_idx, sample_end_idx = self.indices[idx]\n",
    "\n",
    "        # get nomralized data using these indices\n",
    "        nsample = sample_sequence(\n",
    "            train_data=self.normalized_train_data,\n",
    "            sequence_length=self.pred_horizon,\n",
    "            buffer_start_idx=buffer_start_idx,\n",
    "            buffer_end_idx=buffer_end_idx,\n",
    "            sample_start_idx=sample_start_idx,\n",
    "            sample_end_idx=sample_end_idx\n",
    "        )\n",
    "\n",
    "        # discard unused observations\n",
    "        nsample['image'] = nsample['image'][:self.obs_horizon,:]\n",
    "        nsample['agent_pos'] = nsample['agent_pos'][:self.obs_horizon,:]\n",
    "        return nsample\n"
   ]
  },
  {
   "cell_type": "code",
   "execution_count": 3,
   "id": "e3170838",
   "metadata": {},
   "outputs": [],
   "source": [
    "from torch.utils.data import random_split\n",
    "\n",
    "batch_size = 64\n",
    "# parameters\n",
    "obs_horizon = 1\n",
    "action_horizon = 0\n",
    "pred_horizon = 8\n",
    "#|o|o|                             observations: 2\n",
    "#| |a|a|a|a|a|a|a|a|               actions executed: 8\n",
    "#|p|p|p|p|p|p|p|p|p|p|p|p|p|p|p|p| actions predicted: 16\n",
    "\n",
    "# key image: shape (obs_horizon, 3, 96, 96)\n",
    "# key agent_pos: shape (obs_horizon, 2)\n",
    "# key action: shape (pred_horizon, 2)\n",
    "\n",
    "# create dataset from file\n",
    "dataset = PushTImageDataset(\n",
    "    dataset_path=dataset_path,\n",
    "    pred_horizon=pred_horizon,\n",
    "    obs_horizon=obs_horizon,\n",
    "    action_horizon=action_horizon\n",
    ")\n",
    "# save training data statistics (min, max) for each dim\n",
    "stats = dataset.stats\n",
    "\n",
    "train_size = int(0.8 * len(dataset))\n",
    "val_size = len(dataset) - train_size  # Ensure all samples are used\n",
    "\n",
    "train_dataset, val_dataset = random_split(dataset, [train_size, val_size])\n",
    "\n",
    "# create dataloader\n",
    "train_loader = torch.utils.data.DataLoader(\n",
    "    dataset,\n",
    "    batch_size=batch_size,\n",
    "    shuffle=True,\n",
    "    pin_memory=True,\n",
    ")\n",
    "\n",
    "val_loader = torch.utils.data.DataLoader(\n",
    "    val_dataset,\n",
    "    batch_size=64,\n",
    "    shuffle=False,\n",
    "    pin_memory=True,\n",
    ")"
   ]
  },
  {
   "cell_type": "code",
   "execution_count": 4,
   "id": "3ef10ec9",
   "metadata": {},
   "outputs": [
    {
     "name": "stdout",
     "output_type": "stream",
     "text": [
      "batch['image'].shape: torch.Size([64, 1, 3, 96, 96])\n",
      "batch['agent_pos'].shape: torch.Size([64, 1, 2])\n",
      "batch['action'].shape torch.Size([64, 8, 2])\n"
     ]
    },
    {
     "data": {
      "image/png": "[encoded data removed]",
      "text/plain": [
       "<Figure size 600x600 with 1 Axes>"
      ]
     },
     "metadata": {},
     "output_type": "display_data"
    }
   ],
   "source": [
    "import matplotlib.pyplot as plt\n",
    "\n",
    "# visualize data in batch\n",
    "batch = next(iter(train_loader))\n",
    "print(\"batch['image'].shape:\", batch['image'].shape)\n",
    "print(\"batch['agent_pos'].shape:\", batch['agent_pos'].shape)\n",
    "print(\"batch['action'].shape\", batch['action'].shape)\n",
    "\n",
    "nsample = {\n",
    "    k: v[0] for k, v in batch.items()\n",
    "}\n",
    "\n",
    "# unnormalize data\n",
    "agent_pos = unnormalize_data(nsample['agent_pos'].numpy(), stats['action']) * 96/512\n",
    "action = unnormalize_data(nsample['action'].numpy(), stats['action']) * 96/512\n",
    "\n",
    "img = nsample['image'][-1].numpy()\n",
    "img = (np.moveaxis(img, 0, -1) * 255).astype(np.uint8)\n",
    "\n",
    "\n",
    "plt.figure(figsize=(6, 6))\n",
    "plt.imshow(img)\n",
    "plt.plot(agent_pos[:,0], agent_pos[:,1], 'r-o', markersize=5, label='agent pos')\n",
    "plt.plot(action[:,0], action[:,1], 'g-x', markersize=5, label='actions')\n",
    "plt.legend()\n",
    "plt.show()"
   ]
  },
  {
   "cell_type": "markdown",
   "id": "bb333add",
   "metadata": {},
   "source": [
    "## Create Model"
   ]
  },
  {
   "cell_type": "code",
   "execution_count": 5,
   "id": "05b94627",
   "metadata": {},
   "outputs": [
    {
     "name": "stdout",
     "output_type": "stream",
     "text": [
      "cuda:0\n"
     ]
    }
   ],
   "source": [
    "device = torch.device(\"cuda:0\" if torch.cuda.is_available() else \"cpu\")\n",
    "print(device)"
   ]
  },
  {
   "cell_type": "code",
   "execution_count": 6,
   "id": "1313a542",
   "metadata": {},
   "outputs": [],
   "source": [
    "# model parameters\n",
    "img_size = 96               # Training images are 96x96\n",
    "in_channels = 3             # RGB images\n",
    "\n",
    "n_enc_layers = 8\n",
    "n_dec_layers = 8\n",
    "n_queries = pred_horizon    # Number of actons\n",
    "\n",
    "patch_size = 8\n",
    "emb_dim = 512\n",
    "n_heads = 16\n",
    "n_layers = 12\n",
    "dropout = 0.1"
   ]
  },
  {
   "cell_type": "code",
   "execution_count": 7,
   "id": "23a375b1",
   "metadata": {},
   "outputs": [
    {
     "name": "stdout",
     "output_type": "stream",
     "text": [
      "VisionActionModel(\n",
      "  (encoder): VisionEncoder(\n",
      "    (patch_embed): PatchEmbedding(\n",
      "      (proj): Conv2d(3, 512, kernel_size=(8, 8), stride=(8, 8))\n",
      "    )\n",
      "    (positional_embedding): PositionalEmbedding()\n",
      "    (dropout): Dropout(p=0.1, inplace=False)\n",
      "    (encoder): ModuleList(\n",
      "      (0-7): 8 x TransformerEncoder(\n",
      "        (ln1): LayerNorm((512,), eps=1e-05, elementwise_affine=True)\n",
      "        (mha): MultiHeadAttention(\n",
      "          (W_o): Linear(in_features=512, out_features=512, bias=False)\n",
      "          (heads): ModuleList(\n",
      "            (0-15): 16 x AttentionHead(\n",
      "              (query): Linear(in_features=512, out_features=32, bias=False)\n",
      "              (key): Linear(in_features=512, out_features=32, bias=False)\n",
      "              (value): Linear(in_features=512, out_features=32, bias=False)\n",
      "            )\n",
      "          )\n",
      "        )\n",
      "        (dropout1): Dropout(p=0.1, inplace=False)\n",
      "        (ln2): LayerNorm((512,), eps=1e-05, elementwise_affine=True)\n",
      "        (mlp): Sequential(\n",
      "          (0): Linear(in_features=512, out_features=2048, bias=True)\n",
      "          (1): GELU(approximate='none')\n",
      "          (2): Linear(in_features=2048, out_features=512, bias=True)\n",
      "        )\n",
      "        (dropout2): Dropout(p=0.1, inplace=False)\n",
      "      )\n",
      "    )\n",
      "    (norm): LayerNorm((512,), eps=1e-05, elementwise_affine=True)\n",
      "  )\n",
      "  (decoder): TransformerDecoder(\n",
      "    (layers): ModuleList(\n",
      "      (0-7): 8 x TransformerDecoderLayer(\n",
      "        (self_attn): MultiHeadAttention(\n",
      "          (W_o): Linear(in_features=512, out_features=512, bias=False)\n",
      "          (heads): ModuleList(\n",
      "            (0-15): 16 x AttentionHead(\n",
      "              (query): Linear(in_features=512, out_features=32, bias=False)\n",
      "              (key): Linear(in_features=512, out_features=32, bias=False)\n",
      "              (value): Linear(in_features=512, out_features=32, bias=False)\n",
      "            )\n",
      "          )\n",
      "        )\n",
      "        (cross_attn): MultiHeadAttention(\n",
      "          (W_o): Linear(in_features=512, out_features=512, bias=False)\n",
      "          (heads): ModuleList(\n",
      "            (0-15): 16 x AttentionHead(\n",
      "              (query): Linear(in_features=512, out_features=32, bias=False)\n",
      "              (key): Linear(in_features=512, out_features=32, bias=False)\n",
      "              (value): Linear(in_features=512, out_features=32, bias=False)\n",
      "            )\n",
      "          )\n",
      "        )\n",
      "        (ln1): LayerNorm((512,), eps=1e-05, elementwise_affine=True)\n",
      "        (ln2): LayerNorm((512,), eps=1e-05, elementwise_affine=True)\n",
      "        (ln3): LayerNorm((512,), eps=1e-05, elementwise_affine=True)\n",
      "        (mlp): Sequential(\n",
      "          (0): Linear(in_features=512, out_features=2048, bias=True)\n",
      "          (1): GELU(approximate='none')\n",
      "          (2): Linear(in_features=2048, out_features=512, bias=True)\n",
      "          (3): Dropout(p=0.1, inplace=False)\n",
      "        )\n",
      "        (dropout): Dropout(p=0.1, inplace=False)\n",
      "      )\n",
      "    )\n",
      "    (norm): LayerNorm((512,), eps=1e-05, elementwise_affine=True)\n",
      "  )\n",
      "  (action_head): ActionGenerationHead(\n",
      "    (action_head): Linear(in_features=512, out_features=2, bias=True)\n",
      "  )\n",
      ")\n",
      "Total parameters: 58908162\n"
     ]
    }
   ],
   "source": [
    "from action_model import VisionActionModel\n",
    "\n",
    "model = VisionActionModel(img_size, patch_size, in_channels, emb_dim, n_heads, n_enc_layers, n_dec_layers, n_queries, dropout)\n",
    "print(model)\n",
    "\n",
    "total_params = sum(p.numel() for p in model.parameters())\n",
    "print(f'Total parameters: {total_params}')"
   ]
  },
  {
   "cell_type": "markdown",
   "id": "550e4fe2",
   "metadata": {},
   "source": [
    "## Training"
   ]
  },
  {
   "cell_type": "code",
   "execution_count": 8,
   "id": "f36cf93a",
   "metadata": {},
   "outputs": [
    {
     "name": "stderr",
     "output_type": "stream",
     "text": [
      "                                                                          \r"
     ]
    },
    {
     "name": "stdout",
     "output_type": "stream",
     "text": [
      "Epoch 1: New best model saved with validation loss: 1.2166\n"
     ]
    },
    {
     "name": "stderr",
     "output_type": "stream",
     "text": [
      "                                                                         \r"
     ]
    },
    {
     "name": "stdout",
     "output_type": "stream",
     "text": [
      "Epoch 2: New best model saved with validation loss: 1.2166\n"
     ]
    },
    {
     "name": "stderr",
     "output_type": "stream",
     "text": [
      "                                                                         \r"
     ]
    },
    {
     "name": "stdout",
     "output_type": "stream",
     "text": [
      "Epoch 3: New best model saved with validation loss: 1.2163\n"
     ]
    },
    {
     "name": "stderr",
     "output_type": "stream",
     "text": [
      "                                                                          \r"
     ]
    },
    {
     "name": "stdout",
     "output_type": "stream",
     "text": [
      "Epoch 4: New best model saved with validation loss: 0.5637\n"
     ]
    },
    {
     "name": "stderr",
     "output_type": "stream",
     "text": [
      "                                                                          \r"
     ]
    },
    {
     "name": "stdout",
     "output_type": "stream",
     "text": [
      "Epoch 5: New best model saved with validation loss: 0.5635\n"
     ]
    },
    {
     "name": "stderr",
     "output_type": "stream",
     "text": [
      "                                                                          \r"
     ]
    },
    {
     "name": "stdout",
     "output_type": "stream",
     "text": [
      "Epoch 6: New best model saved with validation loss: 0.3513\n"
     ]
    },
    {
     "name": "stderr",
     "output_type": "stream",
     "text": [
      "                                                                          \r"
     ]
    },
    {
     "name": "stdout",
     "output_type": "stream",
     "text": [
      "Epoch 7: New best model saved with validation loss: 0.1666\n"
     ]
    },
    {
     "name": "stderr",
     "output_type": "stream",
     "text": [
      "                                                                          \r"
     ]
    },
    {
     "name": "stdout",
     "output_type": "stream",
     "text": [
      "Epoch 8: New best model saved with validation loss: 0.1254\n"
     ]
    },
    {
     "name": "stderr",
     "output_type": "stream",
     "text": [
      "                                                                           \r"
     ]
    },
    {
     "name": "stdout",
     "output_type": "stream",
     "text": [
      "Epoch 9: New best model saved with validation loss: 0.0522\n"
     ]
    },
    {
     "name": "stderr",
     "output_type": "stream",
     "text": [
      "                                                                            \r"
     ]
    },
    {
     "name": "stdout",
     "output_type": "stream",
     "text": [
      "Epoch 10: New best model saved with validation loss: 0.0269\n"
     ]
    },
    {
     "name": "stderr",
     "output_type": "stream",
     "text": [
      "                                                                             \r"
     ]
    },
    {
     "name": "stdout",
     "output_type": "stream",
     "text": [
      "Epoch 11: New best model saved with validation loss: 0.0254\n"
     ]
    },
    {
     "name": "stderr",
     "output_type": "stream",
     "text": [
      "                                                                             \r"
     ]
    },
    {
     "name": "stdout",
     "output_type": "stream",
     "text": [
      "Epoch 12: New best model saved with validation loss: 0.0201\n"
     ]
    },
    {
     "name": "stderr",
     "output_type": "stream",
     "text": [
      "                                                                            \r"
     ]
    },
    {
     "name": "stdout",
     "output_type": "stream",
     "text": [
      "Epoch 13: New best model saved with validation loss: 0.0200\n"
     ]
    },
    {
     "name": "stderr",
     "output_type": "stream",
     "text": [
      "                                                                            \r"
     ]
    },
    {
     "name": "stdout",
     "output_type": "stream",
     "text": [
      "Epoch 14: New best model saved with validation loss: 0.0191\n"
     ]
    },
    {
     "name": "stderr",
     "output_type": "stream",
     "text": [
      "                                                                            \r"
     ]
    },
    {
     "name": "stdout",
     "output_type": "stream",
     "text": [
      "Epoch 15: New best model saved with validation loss: 0.0189\n"
     ]
    },
    {
     "name": "stderr",
     "output_type": "stream",
     "text": [
      "                                                                            \r"
     ]
    },
    {
     "name": "stdout",
     "output_type": "stream",
     "text": [
      "Epoch 16: New best model saved with validation loss: 0.0173\n"
     ]
    },
    {
     "name": "stderr",
     "output_type": "stream",
     "text": [
      "                                                                            \r"
     ]
    },
    {
     "name": "stdout",
     "output_type": "stream",
     "text": [
      "Epoch 17: New best model saved with validation loss: 0.0170\n"
     ]
    },
    {
     "name": "stderr",
     "output_type": "stream",
     "text": [
      "                                                                            \r"
     ]
    },
    {
     "name": "stdout",
     "output_type": "stream",
     "text": [
      "Epoch 18: New best model saved with validation loss: 0.0162\n"
     ]
    },
    {
     "name": "stderr",
     "output_type": "stream",
     "text": [
      "                                                                            \r"
     ]
    },
    {
     "name": "stdout",
     "output_type": "stream",
     "text": [
      "Epoch 19: New best model saved with validation loss: 0.0161\n"
     ]
    },
    {
     "name": "stderr",
     "output_type": "stream",
     "text": [
      "                                                                             \r"
     ]
    },
    {
     "name": "stdout",
     "output_type": "stream",
     "text": [
      "Epoch 20: New best model saved with validation loss: 0.0160\n"
     ]
    },
    {
     "name": "stderr",
     "output_type": "stream",
     "text": [
      "                                                                             \r"
     ]
    },
    {
     "name": "stdout",
     "output_type": "stream",
     "text": [
      "Epoch 22: New best model saved with validation loss: 0.0159\n"
     ]
    },
    {
     "name": "stderr",
     "output_type": "stream",
     "text": [
      "                                                                            \r"
     ]
    },
    {
     "name": "stdout",
     "output_type": "stream",
     "text": [
      "Epoch 24: New best model saved with validation loss: 0.0157\n"
     ]
    },
    {
     "name": "stderr",
     "output_type": "stream",
     "text": [
      "                                                                             \r"
     ]
    },
    {
     "name": "stdout",
     "output_type": "stream",
     "text": [
      "Epoch 27: New best model saved with validation loss: 0.0149\n"
     ]
    },
    {
     "name": "stderr",
     "output_type": "stream",
     "text": [
      "                                                                             \r"
     ]
    },
    {
     "name": "stdout",
     "output_type": "stream",
     "text": [
      "Epoch 28: New best model saved with validation loss: 0.0148\n"
     ]
    },
    {
     "name": "stderr",
     "output_type": "stream",
     "text": [
      "                                                                            \r"
     ]
    },
    {
     "name": "stdout",
     "output_type": "stream",
     "text": [
      "Epoch 29: New best model saved with validation loss: 0.0146\n"
     ]
    },
    {
     "name": "stderr",
     "output_type": "stream",
     "text": [
      "                                                                             \r"
     ]
    },
    {
     "name": "stdout",
     "output_type": "stream",
     "text": [
      "Epoch 32: New best model saved with validation loss: 0.0130\n"
     ]
    },
    {
     "name": "stderr",
     "output_type": "stream",
     "text": [
      "                                                                             \r"
     ]
    },
    {
     "name": "stdout",
     "output_type": "stream",
     "text": [
      "Epoch 33: New best model saved with validation loss: 0.0127\n"
     ]
    },
    {
     "name": "stderr",
     "output_type": "stream",
     "text": [
      "                                                                             \r"
     ]
    },
    {
     "name": "stdout",
     "output_type": "stream",
     "text": [
      "Epoch 39: New best model saved with validation loss: 0.0115\n"
     ]
    },
    {
     "name": "stderr",
     "output_type": "stream",
     "text": [
      "                                                                             \r"
     ]
    },
    {
     "name": "stdout",
     "output_type": "stream",
     "text": [
      "Epoch 41: New best model saved with validation loss: 0.0115\n"
     ]
    },
    {
     "name": "stderr",
     "output_type": "stream",
     "text": [
      "                                                                             \r"
     ]
    },
    {
     "name": "stdout",
     "output_type": "stream",
     "text": [
      "Epoch 42: New best model saved with validation loss: 0.0111\n"
     ]
    },
    {
     "name": "stderr",
     "output_type": "stream",
     "text": [
      "                                                                             \r"
     ]
    },
    {
     "name": "stdout",
     "output_type": "stream",
     "text": [
      "Epoch 44: New best model saved with validation loss: 0.0105\n"
     ]
    },
    {
     "name": "stderr",
     "output_type": "stream",
     "text": [
      "                                                                             \r"
     ]
    },
    {
     "name": "stdout",
     "output_type": "stream",
     "text": [
      "Epoch 46: New best model saved with validation loss: 0.0100\n"
     ]
    },
    {
     "name": "stderr",
     "output_type": "stream",
     "text": [
      "                                                                             \r"
     ]
    },
    {
     "name": "stdout",
     "output_type": "stream",
     "text": [
      "Epoch 47: New best model saved with validation loss: 0.0088\n"
     ]
    },
    {
     "name": "stderr",
     "output_type": "stream",
     "text": [
      "                                                                             \r"
     ]
    },
    {
     "name": "stdout",
     "output_type": "stream",
     "text": [
      "Epoch 48: New best model saved with validation loss: 0.0079\n"
     ]
    },
    {
     "name": "stderr",
     "output_type": "stream",
     "text": [
      "                                                                             \r"
     ]
    },
    {
     "name": "stdout",
     "output_type": "stream",
     "text": [
      "Epoch 49: New best model saved with validation loss: 0.0075\n"
     ]
    },
    {
     "name": "stderr",
     "output_type": "stream",
     "text": [
      "                                                                             \r"
     ]
    },
    {
     "name": "stdout",
     "output_type": "stream",
     "text": [
      "Epoch 51: New best model saved with validation loss: 0.0064\n"
     ]
    },
    {
     "name": "stderr",
     "output_type": "stream",
     "text": [
      "                                                                             \r"
     ]
    },
    {
     "name": "stdout",
     "output_type": "stream",
     "text": [
      "Epoch 52: New best model saved with validation loss: 0.0062\n"
     ]
    },
    {
     "name": "stderr",
     "output_type": "stream",
     "text": [
      "                                                                             \r"
     ]
    },
    {
     "name": "stdout",
     "output_type": "stream",
     "text": [
      "Epoch 53: New best model saved with validation loss: 0.0059\n"
     ]
    },
    {
     "name": "stderr",
     "output_type": "stream",
     "text": [
      "                                                                             \r"
     ]
    },
    {
     "name": "stdout",
     "output_type": "stream",
     "text": [
      "Epoch 54: New best model saved with validation loss: 0.0058\n"
     ]
    },
    {
     "name": "stderr",
     "output_type": "stream",
     "text": [
      "                                                                             \r"
     ]
    },
    {
     "name": "stdout",
     "output_type": "stream",
     "text": [
      "Epoch 55: New best model saved with validation loss: 0.0050\n"
     ]
    },
    {
     "name": "stderr",
     "output_type": "stream",
     "text": [
      "                                                                             \r"
     ]
    },
    {
     "name": "stdout",
     "output_type": "stream",
     "text": [
      "Epoch 57: New best model saved with validation loss: 0.0048\n"
     ]
    },
    {
     "name": "stderr",
     "output_type": "stream",
     "text": [
      "                                                                             \r"
     ]
    },
    {
     "name": "stdout",
     "output_type": "stream",
     "text": [
      "Epoch 58: New best model saved with validation loss: 0.0045\n"
     ]
    },
    {
     "name": "stderr",
     "output_type": "stream",
     "text": [
      "                                                                             \r"
     ]
    },
    {
     "name": "stdout",
     "output_type": "stream",
     "text": [
      "Epoch 59: New best model saved with validation loss: 0.0044\n"
     ]
    },
    {
     "name": "stderr",
     "output_type": "stream",
     "text": [
      "                                                                             \r"
     ]
    },
    {
     "name": "stdout",
     "output_type": "stream",
     "text": [
      "Epoch 60: New best model saved with validation loss: 0.0044\n"
     ]
    },
    {
     "name": "stderr",
     "output_type": "stream",
     "text": [
      "                                                                             \r"
     ]
    },
    {
     "name": "stdout",
     "output_type": "stream",
     "text": [
      "Epoch 62: New best model saved with validation loss: 0.0044\n"
     ]
    },
    {
     "name": "stderr",
     "output_type": "stream",
     "text": [
      "                                                                             \r"
     ]
    },
    {
     "name": "stdout",
     "output_type": "stream",
     "text": [
      "Epoch 65: New best model saved with validation loss: 0.0043\n"
     ]
    },
    {
     "name": "stderr",
     "output_type": "stream",
     "text": [
      "                                                                              \r"
     ]
    },
    {
     "name": "stdout",
     "output_type": "stream",
     "text": [
      "Epoch 91: New best model saved with validation loss: 0.0038\n"
     ]
    },
    {
     "name": "stderr",
     "output_type": "stream",
     "text": [
      "                                                                             \r"
     ]
    },
    {
     "name": "stdout",
     "output_type": "stream",
     "text": [
      "Epoch 92: New best model saved with validation loss: 0.0035\n"
     ]
    },
    {
     "name": "stderr",
     "output_type": "stream",
     "text": [
      "                                                                             \r"
     ]
    },
    {
     "name": "stdout",
     "output_type": "stream",
     "text": [
      "Epoch 93: New best model saved with validation loss: 0.0033\n"
     ]
    },
    {
     "name": "stderr",
     "output_type": "stream",
     "text": [
      "                                                                             \r"
     ]
    },
    {
     "name": "stdout",
     "output_type": "stream",
     "text": [
      "Epoch 94: New best model saved with validation loss: 0.0032\n"
     ]
    },
    {
     "name": "stderr",
     "output_type": "stream",
     "text": [
      "                                                                             \r"
     ]
    },
    {
     "name": "stdout",
     "output_type": "stream",
     "text": [
      "Epoch 95: New best model saved with validation loss: 0.0029\n"
     ]
    },
    {
     "name": "stderr",
     "output_type": "stream",
     "text": [
      "                                                                             \r"
     ]
    },
    {
     "name": "stdout",
     "output_type": "stream",
     "text": [
      "Epoch 96: New best model saved with validation loss: 0.0026\n"
     ]
    },
    {
     "name": "stderr",
     "output_type": "stream",
     "text": [
      "                                                                              \r"
     ]
    },
    {
     "name": "stdout",
     "output_type": "stream",
     "text": [
      "Epoch 97: New best model saved with validation loss: 0.0025\n"
     ]
    },
    {
     "name": "stderr",
     "output_type": "stream",
     "text": [
      "                                                                             \r"
     ]
    },
    {
     "name": "stdout",
     "output_type": "stream",
     "text": [
      "Epoch 99: New best model saved with validation loss: 0.0025\n"
     ]
    },
    {
     "name": "stderr",
     "output_type": "stream",
     "text": [
      "                                                                              \r"
     ]
    },
    {
     "name": "stdout",
     "output_type": "stream",
     "text": [
      "Epoch 100: New best model saved with validation loss: 0.0025\n"
     ]
    },
    {
     "name": "stderr",
     "output_type": "stream",
     "text": [
      "                                                                              \r"
     ]
    },
    {
     "name": "stdout",
     "output_type": "stream",
     "text": [
      "Epoch 102: New best model saved with validation loss: 0.0024\n"
     ]
    },
    {
     "name": "stderr",
     "output_type": "stream",
     "text": [
      "                                                                              \r"
     ]
    },
    {
     "name": "stdout",
     "output_type": "stream",
     "text": [
      "Epoch 104: New best model saved with validation loss: 0.0024\n"
     ]
    },
    {
     "name": "stderr",
     "output_type": "stream",
     "text": [
      "                                                                               \r"
     ]
    },
    {
     "name": "stdout",
     "output_type": "stream",
     "text": [
      "Epoch 130: New best model saved with validation loss: 0.0023\n"
     ]
    },
    {
     "name": "stderr",
     "output_type": "stream",
     "text": [
      "                                                                              \r"
     ]
    },
    {
     "name": "stdout",
     "output_type": "stream",
     "text": [
      "Epoch 132: New best model saved with validation loss: 0.0020\n"
     ]
    },
    {
     "name": "stderr",
     "output_type": "stream",
     "text": [
      "                                                                              \r"
     ]
    },
    {
     "name": "stdout",
     "output_type": "stream",
     "text": [
      "Epoch 133: New best model saved with validation loss: 0.0019\n"
     ]
    },
    {
     "name": "stderr",
     "output_type": "stream",
     "text": [
      "                                                                               \r"
     ]
    },
    {
     "name": "stdout",
     "output_type": "stream",
     "text": [
      "Epoch 135: New best model saved with validation loss: 0.0018\n"
     ]
    },
    {
     "name": "stderr",
     "output_type": "stream",
     "text": [
      "                                                                              \r"
     ]
    },
    {
     "name": "stdout",
     "output_type": "stream",
     "text": [
      "Epoch 136: New best model saved with validation loss: 0.0016\n"
     ]
    },
    {
     "name": "stderr",
     "output_type": "stream",
     "text": [
      "                                                                              \r"
     ]
    },
    {
     "name": "stdout",
     "output_type": "stream",
     "text": [
      "Epoch 137: New best model saved with validation loss: 0.0016\n"
     ]
    },
    {
     "name": "stderr",
     "output_type": "stream",
     "text": [
      "                                                                              \r"
     ]
    },
    {
     "name": "stdout",
     "output_type": "stream",
     "text": [
      "Epoch 138: New best model saved with validation loss: 0.0016\n"
     ]
    },
    {
     "name": "stderr",
     "output_type": "stream",
     "text": [
      "                                                                              \r"
     ]
    },
    {
     "name": "stdout",
     "output_type": "stream",
     "text": [
      "Epoch 139: New best model saved with validation loss: 0.0015\n"
     ]
    },
    {
     "name": "stderr",
     "output_type": "stream",
     "text": [
      "                                                                               \r"
     ]
    },
    {
     "name": "stdout",
     "output_type": "stream",
     "text": [
      "Epoch 144: New best model saved with validation loss: 0.0015\n"
     ]
    },
    {
     "name": "stderr",
     "output_type": "stream",
     "text": [
      "                                                                               \r"
     ]
    },
    {
     "name": "stdout",
     "output_type": "stream",
     "text": [
      "Epoch 173: New best model saved with validation loss: 0.0014\n"
     ]
    },
    {
     "name": "stderr",
     "output_type": "stream",
     "text": [
      "                                                                              \r"
     ]
    },
    {
     "name": "stdout",
     "output_type": "stream",
     "text": [
      "Epoch 174: New best model saved with validation loss: 0.0012\n"
     ]
    },
    {
     "name": "stderr",
     "output_type": "stream",
     "text": [
      "                                                                              \r"
     ]
    },
    {
     "name": "stdout",
     "output_type": "stream",
     "text": [
      "Epoch 175: New best model saved with validation loss: 0.0012\n"
     ]
    },
    {
     "name": "stderr",
     "output_type": "stream",
     "text": [
      "                                                                              \r"
     ]
    },
    {
     "name": "stdout",
     "output_type": "stream",
     "text": [
      "Epoch 176: New best model saved with validation loss: 0.0011\n"
     ]
    },
    {
     "name": "stderr",
     "output_type": "stream",
     "text": [
      "                                                                               \r"
     ]
    },
    {
     "name": "stdout",
     "output_type": "stream",
     "text": [
      "Epoch 177: New best model saved with validation loss: 0.0011\n"
     ]
    },
    {
     "name": "stderr",
     "output_type": "stream",
     "text": [
      "                                                                              \r"
     ]
    },
    {
     "name": "stdout",
     "output_type": "stream",
     "text": [
      "Epoch 178: New best model saved with validation loss: 0.0011\n"
     ]
    },
    {
     "name": "stderr",
     "output_type": "stream",
     "text": [
      "                                                                               \r"
     ]
    },
    {
     "name": "stdout",
     "output_type": "stream",
     "text": [
      "Epoch 179: New best model saved with validation loss: 0.0010\n"
     ]
    },
    {
     "name": "stderr",
     "output_type": "stream",
     "text": [
      "                                                                               \r"
     ]
    },
    {
     "name": "stdout",
     "output_type": "stream",
     "text": [
      "Epoch 182: New best model saved with validation loss: 0.0010\n"
     ]
    },
    {
     "name": "stderr",
     "output_type": "stream",
     "text": [
      "                                                                               \r"
     ]
    },
    {
     "name": "stdout",
     "output_type": "stream",
     "text": [
      "Total training time: 48973.46 seconds\n",
      "Best validation loss achieved: 0.0010\n"
     ]
    }
   ],
   "source": [
    "import time\n",
    "from tqdm import tqdm\n",
    "from torch.optim.lr_scheduler import CosineAnnealingLR\n",
    "import matplotlib.pyplot as plt\n",
    "import numpy as np\n",
    "\n",
    "model = model.to(device)\n",
    "\n",
    "criterion = torch.nn.MSELoss()\n",
    "optimizer = torch.optim.Adam(model.parameters(), lr=3e-4)\n",
    "\n",
    "num_epochs = 200\n",
    "scheduler = CosineAnnealingLR(optimizer, T_max=num_epochs//10, eta_min=1e-7) # cosine annealing with restarts\n",
    "\n",
    "# best model\n",
    "best_val_loss = np.inf\n",
    "MODEL_PATH = 'pusht_model_best.pth'\n",
    "\n",
    "# training metrics to be plotted\n",
    "train_losses = []\n",
    "val_losses = []\n",
    "learning_rates = []\n",
    "\n",
    "start_time = time.time() # timing\n",
    "\n",
    "for epoch in range(num_epochs):\n",
    "    # Training\n",
    "    model.train()\n",
    "    epoch_train_loss = 0.0\n",
    "    loop = tqdm(train_loader, desc=f'Epoch {epoch+1}/{num_epochs}', leave=False)\n",
    "    for batch in loop:\n",
    "        images = batch['image'].squeeze(1).to(device) # squeeze images for obs_horizon=1\n",
    "        actions = batch['action'].to(device)\n",
    "\n",
    "        optimizer.zero_grad()\n",
    "        outputs = model(images)\n",
    "        loss = criterion(outputs, actions)\n",
    "        loss.backward()\n",
    "        optimizer.step()\n",
    "\n",
    "        epoch_train_loss += loss.item()\n",
    "        loop.set_postfix(loss=loss.item())\n",
    "    \n",
    "    train_losses.append(epoch_train_loss / len(train_loader))\n",
    "\n",
    "    # Validation\n",
    "    model.eval()\n",
    "    val_loss = 0.0\n",
    "    with torch.no_grad():\n",
    "        for batch in val_loader:\n",
    "            images = batch['image'].squeeze(1).to(device)\n",
    "            actions = batch['action'].to(device)\n",
    "            \n",
    "            outputs = model(images)\n",
    "            loss = criterion(outputs, actions)\n",
    "            val_loss += loss.item()\n",
    "            \n",
    "    avg_val_loss = val_loss / len(val_loader)\n",
    "    val_losses.append(avg_val_loss)\n",
    "    \n",
    "    # save best model\n",
    "    if avg_val_loss < best_val_loss:\n",
    "        best_val_loss = avg_val_loss\n",
    "        torch.save(model.state_dict(), MODEL_PATH)\n",
    "        print(f\"Epoch {epoch+1}: New best model saved with validation loss: {avg_val_loss:.4f}\")\n",
    "\n",
    "    # Step the scheduler and store LR\n",
    "    scheduler.step()\n",
    "    learning_rates.append(optimizer.param_groups[0]['lr'])\n",
    "\n",
    "\n",
    "end_time = time.time()\n",
    "training_duration = end_time - start_time\n",
    "print(f\"Total training time: {training_duration:.2f} seconds\")\n",
    "print(f\"Best validation loss achieved: {best_val_loss:.4f}\")"
   ]
  },
  {
   "cell_type": "code",
   "execution_count": 9,
   "id": "58a15c03",
   "metadata": {},
   "outputs": [
    {
     "data": {
      "image/png": "[encoded data removed]",
      "text/plain": [
       "<Figure size 1200x500 with 2 Axes>"
      ]
     },
     "metadata": {},
     "output_type": "display_data"
    }
   ],
   "source": [
    "# Plotting the results\n",
    "plt.figure(figsize=(12, 5))\n",
    "\n",
    "# Plotting training and validation loss\n",
    "plt.subplot(1, 2, 1)\n",
    "plt.plot(train_losses, label='Training Loss')\n",
    "plt.plot(val_losses, label='Validation Loss')\n",
    "plt.title('Training & Validation Loss')\n",
    "plt.xlabel('Epochs')\n",
    "plt.ylabel('Loss')\n",
    "plt.legend()\n",
    "\n",
    "# Plotting learning rate\n",
    "plt.subplot(1, 2, 2)\n",
    "plt.plot(learning_rates, label='Learning Rate')\n",
    "plt.title('Learning Rate Schedule')\n",
    "plt.xlabel('Epochs')\n",
    "plt.ylabel('Learning Rate')\n",
    "plt.legend()\n",
    "\n",
    "plt.tight_layout()\n",
    "plt.show()"
   ]
  },
  {
   "cell_type": "code",
   "execution_count": 10,
   "id": "b924a920",
   "metadata": {},
   "outputs": [
    {
     "name": "stdout",
     "output_type": "stream",
     "text": [
      "Model saved to pusht_model.pth\n"
     ]
    }
   ],
   "source": [
    "MODEL_PATH = 'pusht_model.pth'\n",
    "\n",
    "torch.save(model.state_dict(), MODEL_PATH)\n",
    "\n",
    "print(f'Model saved to {MODEL_PATH}')"
   ]
  },
  {
   "cell_type": "markdown",
   "id": "a733715e",
   "metadata": {},
   "source": [
    "## Inference On Validation Set"
   ]
  },
  {
   "cell_type": "code",
   "execution_count": null,
   "id": "6c15a27a",
   "metadata": {},
   "outputs": [],
   "source": [
    "# load best model\n",
    "# model.load_state_dict(torch.load('pusht_model_best.pth'))"
   ]
  },
  {
   "cell_type": "code",
   "execution_count": 11,
   "id": "4f48a4f4",
   "metadata": {},
   "outputs": [
    {
     "data": {
      "image/png": "[encoded data removed]",
      "text/plain": [
       "<Figure size 600x600 with 1 Axes>"
      ]
     },
     "metadata": {},
     "output_type": "display_data"
    }
   ],
   "source": [
    "\n",
    "# After training, switch to evaluation mode\n",
    "model.eval()\n",
    "\n",
    "# Get a batch of data\n",
    "batch = next(iter(val_loader))\n",
    "images = batch['image'].squeeze(1).to(device)\n",
    "true_actions = batch['action'].to(device)\n",
    "\n",
    "with torch.no_grad():\n",
    "    # Get model predictions\n",
    "    predicted_actions = model(images)\n",
    "\n",
    "# Move data to CPU for visualization\n",
    "images_cpu = images.cpu().numpy()\n",
    "true_actions_cpu = true_actions.cpu().numpy()\n",
    "predicted_actions_cpu = predicted_actions.cpu().numpy()\n",
    "\n",
    "# Select one example from the batch to visualize\n",
    "idx_to_show = 1\n",
    "img = images_cpu[idx_to_show]\n",
    "# img = np.moveaxis(img, 0, -1).astype(np.uint8) # CHW to HWC\n",
    "img = (np.moveaxis(img, 0, -1) * 255).astype(np.uint8) # CHW to HWC\n",
    "\n",
    "true_action_points = unnormalize_data(true_actions_cpu[idx_to_show], stats['action']) * 96/512\n",
    "predicted_action_points = unnormalize_data(predicted_actions_cpu[idx_to_show], stats['action']) *96/512 # {'min': 0, 'max': 96}\n",
    "\n",
    "\n",
    "# Plotting\n",
    "plt.figure(figsize=(6, 6))\n",
    "plt.imshow(img)\n",
    "plt.plot(true_action_points[:, 0], true_action_points[:, 1], 'g-x', markersize=5, label='True Actions')\n",
    "plt.plot(predicted_action_points[:, 0], predicted_action_points[:, 1], 'r-o', markersize=5, label='Predicted Actions')\n",
    "plt.legend()\n",
    "plt.title(\"Model Prediction vs. Ground Truth\")\n",
    "plt.show()"
   ]
  },
  {
   "cell_type": "code",
   "execution_count": 12,
   "id": "c9a4fd6c",
   "metadata": {},
   "outputs": [
    {
     "name": "stdout",
     "output_type": "stream",
     "text": [
      "[[78.17179  79.04764 ]\n",
      " [76.02072  79.020515]\n",
      " [73.780365 79.25415 ]\n",
      " [72.08122  79.074394]\n",
      " [70.09444  78.393234]\n",
      " [68.244774 77.85348 ]\n",
      " [66.53418  77.78233 ]\n",
      " [65.063354 77.33007 ]]\n"
     ]
    }
   ],
   "source": [
    "print(predicted_action_points)"
   ]
  },
  {
   "cell_type": "markdown",
   "id": "b22be00b",
   "metadata": {},
   "source": [
    "## Test On Gym Environment"
   ]
  },
  {
   "cell_type": "code",
   "execution_count": null,
   "id": "41594f43",
   "metadata": {},
   "outputs": [
    {
     "name": "stderr",
     "output_type": "stream",
     "text": [
      "Eval PushTImageEnv:  24%|██▍       | 238/1000 [00:03<00:09, 78.56it/s, reward=1]     \n"
     ]
    },
    {
     "name": "stdout",
     "output_type": "stream",
     "text": [
      "Score:  1.0\n"
     ]
    },
    {
     "data": {
      "text/html": [
       "<video controls  width=\"256\"  height=\"256\">\n",
       " <source src=\"data:video/mp4;base64,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\" type=\"video/mp4\">\n",
       " Your browser does not support the video tag.\n",
       " </video>"
      ],
      "text/plain": [
       "<IPython.core.display.Video object>"
      ]
     },
     "execution_count": 19,
     "metadata": {},
     "output_type": "execute_result"
    }
   ],
   "source": [
    "from pusht_gym_env import PushTImageEnv\n",
    "from tqdm import tqdm\n",
    "\n",
    "# limit enviornment interaction to 200 steps before termination\n",
    "max_steps = 1000\n",
    "env = PushTImageEnv()\n",
    "# use a seed >200 to avoid initial states seen in the training dataset\n",
    "env.seed()\n",
    "\n",
    "# get first observation\n",
    "obs, info = env.reset()\n",
    "\n",
    "# save visualization and rewards\n",
    "imgs = [env.render(mode='rgb_array')]\n",
    "rewards = list()\n",
    "done = False\n",
    "step_idx = 0\n",
    "\n",
    "# ensure model is in evaluation mode\n",
    "model.eval()\n",
    "model.to(device)\n",
    "\n",
    "with tqdm(total=max_steps, desc=\"Eval PushTImageEnv\") as pbar:\n",
    "    while not done:\n",
    "        env_image = obs['image']\n",
    "\n",
    "        # Add a batch dimension and move to cuda\n",
    "        env_image = torch.from_numpy(env_image).unsqueeze(0).to(device, dtype=torch.float32)\n",
    "\n",
    "        with torch.no_grad():\n",
    "            predicted_nactions = model(env_image) # (B, C, H, W)\n",
    "\n",
    "        predicted_nactions = predicted_nactions.detach().to('cpu').numpy() # Shape: (B, pred_horizon, 2) -> (1, 8, 2)\n",
    "        \n",
    "        action_pred = unnormalize_data(predicted_nactions[0], stats=stats['action'])\n",
    "        \n",
    "        # Execute the entire predicted action sequence\n",
    "        for i in range(len(action_pred)):\n",
    "            obs, reward, done, _, info = env.step(action_pred[i])\n",
    "            \n",
    "            # And reward/vis\n",
    "            rewards.append(reward)\n",
    "            imgs.append(env.render(mode='rgb_array'))\n",
    "\n",
    "            # Update progress bar\n",
    "            step_idx += 1\n",
    "            pbar.update(1)\n",
    "            pbar.set_postfix(reward=reward)\n",
    "            if step_idx >= max_steps:\n",
    "                done = True\n",
    "            if done:\n",
    "                break\n",
    "        \n",
    "        if done:\n",
    "            break\n",
    "\n",
    "# print out the maximum target coverage\n",
    "print('Score: ', max(rewards))\n",
    "\n",
    "# visualize\n",
    "from skvideo.io import vwrite\n",
    "from IPython.display import Video\n",
    "fname = \"vis5.mp4\"\n",
    "vwrite(fname, imgs)\n",
    "Video(fname, embed=True, width=256, height=256)"
   ]
  }
 ],
 "metadata": {
  "kernelspec": {
   "display_name": "Python 3",
   "language": "python",
   "name": "python3"
  },
  "language_info": {
   "codemirror_mode": {
    "name": "ipython",
    "version": 3
   },
   "file_extension": ".py",
   "mimetype": "text/x-python",
   "name": "python",
   "nbconvert_exporter": "python",
   "pygments_lexer": "ipython3",
   "version": "3.8.3"
  }
 },
 "nbformat": 4,
 "nbformat_minor": 5
}
